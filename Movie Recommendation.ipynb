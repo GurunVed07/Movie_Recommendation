{
 "cells": [
  {
   "cell_type": "markdown",
   "id": "4e47b319",
   "metadata": {},
   "source": [
    "### Import EDA Libraries"
   ]
  },
  {
   "cell_type": "code",
   "execution_count": 1,
   "id": "2943918b",
   "metadata": {},
   "outputs": [],
   "source": [
    "%matplotlib inline\n",
    "import pandas as pd\n",
    "import numpy as np\n",
    "import matplotlib.pyplot as plt\n",
    "import seaborn as sns\n",
    "import warnings\n",
    "warnings.simplefilter('ignore')"
   ]
  },
  {
   "cell_type": "markdown",
   "id": "2525af43",
   "metadata": {},
   "source": [
    "### Collection of Movie Data"
   ]
  },
  {
   "cell_type": "code",
   "execution_count": 2,
   "id": "0dd0571b",
   "metadata": {},
   "outputs": [],
   "source": [
    "df = pd.DataFrame()"
   ]
  },
  {
   "cell_type": "code",
   "execution_count": 3,
   "id": "4606d1a1",
   "metadata": {},
   "outputs": [
    {
     "data": {
      "text/html": [
       "<div>\n",
       "<style scoped>\n",
       "    .dataframe tbody tr th:only-of-type {\n",
       "        vertical-align: middle;\n",
       "    }\n",
       "\n",
       "    .dataframe tbody tr th {\n",
       "        vertical-align: top;\n",
       "    }\n",
       "\n",
       "    .dataframe thead th {\n",
       "        text-align: right;\n",
       "    }\n",
       "</style>\n",
       "<table border=\"1\" class=\"dataframe\">\n",
       "  <thead>\n",
       "    <tr style=\"text-align: right;\">\n",
       "      <th></th>\n",
       "    </tr>\n",
       "  </thead>\n",
       "  <tbody>\n",
       "  </tbody>\n",
       "</table>\n",
       "</div>"
      ],
      "text/plain": [
       "Empty DataFrame\n",
       "Columns: []\n",
       "Index: []"
      ]
     },
     "execution_count": 3,
     "metadata": {},
     "output_type": "execute_result"
    }
   ],
   "source": [
    "df"
   ]
  },
  {
   "cell_type": "code",
   "execution_count": 4,
   "id": "0ba2db31",
   "metadata": {},
   "outputs": [],
   "source": [
    "import requests\n",
    "for i in range(1, 401):\n",
    "    response = requests.get('https://api.themoviedb.org/3/movie/top_rated?api_key=[Enter Your Api Key]&language=en-US&page={}'.format(i))\n",
    "    movies = pd.DataFrame(response.json()['results'])[['id', 'original_title', 'title', 'overview', 'genre_ids', 'original_language', 'release_date', 'popularity', 'adult', 'video', 'vote_average', 'vote_count']]\n",
    "    movie = df.append(movies, ignore_index=True)"
   ]
  },
  {
   "cell_type": "code",
   "execution_count": 5,
   "id": "b503f698",
   "metadata": {},
   "outputs": [
    {
     "data": {
      "text/html": [
       "<div>\n",
       "<style scoped>\n",
       "    .dataframe tbody tr th:only-of-type {\n",
       "        vertical-align: middle;\n",
       "    }\n",
       "\n",
       "    .dataframe tbody tr th {\n",
       "        vertical-align: top;\n",
       "    }\n",
       "\n",
       "    .dataframe thead th {\n",
       "        text-align: right;\n",
       "    }\n",
       "</style>\n",
       "<table border=\"1\" class=\"dataframe\">\n",
       "  <thead>\n",
       "    <tr style=\"text-align: right;\">\n",
       "      <th></th>\n",
       "      <th>id</th>\n",
       "      <th>original_title</th>\n",
       "      <th>title</th>\n",
       "      <th>overview</th>\n",
       "      <th>genre_ids</th>\n",
       "      <th>original_language</th>\n",
       "      <th>release_date</th>\n",
       "      <th>popularity</th>\n",
       "      <th>adult</th>\n",
       "      <th>video</th>\n",
       "      <th>vote_average</th>\n",
       "      <th>vote_count</th>\n",
       "    </tr>\n",
       "  </thead>\n",
       "  <tbody>\n",
       "    <tr>\n",
       "      <th>0</th>\n",
       "      <td>43930</td>\n",
       "      <td>Tomorrow, When the War Began</td>\n",
       "      <td>Tomorrow, When the War Began</td>\n",
       "      <td>Ellie Linton, a teen from an Australian coasta...</td>\n",
       "      <td>[28, 12, 18]</td>\n",
       "      <td>en</td>\n",
       "      <td>2010-08-08</td>\n",
       "      <td>12.537</td>\n",
       "      <td>False</td>\n",
       "      <td>False</td>\n",
       "      <td>6.2</td>\n",
       "      <td>466</td>\n",
       "    </tr>\n",
       "    <tr>\n",
       "      <th>1</th>\n",
       "      <td>22327</td>\n",
       "      <td>Youth in Revolt</td>\n",
       "      <td>Youth in Revolt</td>\n",
       "      <td>As a fan of Albert Camus and Jean-Luc Godard, ...</td>\n",
       "      <td>[35, 10749]</td>\n",
       "      <td>en</td>\n",
       "      <td>2009-09-11</td>\n",
       "      <td>10.775</td>\n",
       "      <td>False</td>\n",
       "      <td>False</td>\n",
       "      <td>6.2</td>\n",
       "      <td>822</td>\n",
       "    </tr>\n",
       "    <tr>\n",
       "      <th>2</th>\n",
       "      <td>10739</td>\n",
       "      <td>Anything Else</td>\n",
       "      <td>Anything Else</td>\n",
       "      <td>Jerry Falk, an aspiring writer in New York, fa...</td>\n",
       "      <td>[18, 35, 10749]</td>\n",
       "      <td>en</td>\n",
       "      <td>2003-08-27</td>\n",
       "      <td>10.145</td>\n",
       "      <td>False</td>\n",
       "      <td>False</td>\n",
       "      <td>6.2</td>\n",
       "      <td>551</td>\n",
       "    </tr>\n",
       "    <tr>\n",
       "      <th>3</th>\n",
       "      <td>9457</td>\n",
       "      <td>Deep Rising</td>\n",
       "      <td>Deep Rising</td>\n",
       "      <td>A group of heavily armed hijackers board a lux...</td>\n",
       "      <td>[12, 28, 27, 878]</td>\n",
       "      <td>en</td>\n",
       "      <td>1998-01-30</td>\n",
       "      <td>22.224</td>\n",
       "      <td>False</td>\n",
       "      <td>False</td>\n",
       "      <td>6.2</td>\n",
       "      <td>609</td>\n",
       "    </tr>\n",
       "    <tr>\n",
       "      <th>4</th>\n",
       "      <td>1727</td>\n",
       "      <td>Bird on a Wire</td>\n",
       "      <td>Bird on a Wire</td>\n",
       "      <td>An FBI informant has kept his new identity sec...</td>\n",
       "      <td>[28, 12, 35, 10749]</td>\n",
       "      <td>en</td>\n",
       "      <td>1990-05-18</td>\n",
       "      <td>12.590</td>\n",
       "      <td>False</td>\n",
       "      <td>False</td>\n",
       "      <td>6.2</td>\n",
       "      <td>828</td>\n",
       "    </tr>\n",
       "  </tbody>\n",
       "</table>\n",
       "</div>"
      ],
      "text/plain": [
       "      id                original_title                         title  \\\n",
       "0  43930  Tomorrow, When the War Began  Tomorrow, When the War Began   \n",
       "1  22327               Youth in Revolt               Youth in Revolt   \n",
       "2  10739                 Anything Else                 Anything Else   \n",
       "3   9457                   Deep Rising                   Deep Rising   \n",
       "4   1727                Bird on a Wire                Bird on a Wire   \n",
       "\n",
       "                                            overview            genre_ids  \\\n",
       "0  Ellie Linton, a teen from an Australian coasta...         [28, 12, 18]   \n",
       "1  As a fan of Albert Camus and Jean-Luc Godard, ...          [35, 10749]   \n",
       "2  Jerry Falk, an aspiring writer in New York, fa...      [18, 35, 10749]   \n",
       "3  A group of heavily armed hijackers board a lux...    [12, 28, 27, 878]   \n",
       "4  An FBI informant has kept his new identity sec...  [28, 12, 35, 10749]   \n",
       "\n",
       "  original_language release_date  popularity  adult  video  vote_average  \\\n",
       "0                en   2010-08-08      12.537  False  False           6.2   \n",
       "1                en   2009-09-11      10.775  False  False           6.2   \n",
       "2                en   2003-08-27      10.145  False  False           6.2   \n",
       "3                en   1998-01-30      22.224  False  False           6.2   \n",
       "4                en   1990-05-18      12.590  False  False           6.2   \n",
       "\n",
       "   vote_count  \n",
       "0         466  \n",
       "1         822  \n",
       "2         551  \n",
       "3         609  \n",
       "4         828  "
      ]
     },
     "execution_count": 5,
     "metadata": {},
     "output_type": "execute_result"
    }
   ],
   "source": [
    "movie.head()"
   ]
  },
  {
   "cell_type": "markdown",
   "id": "901ae2ed",
   "metadata": {},
   "source": [
    "### Feature Engineering"
   ]
  },
  {
   "cell_type": "code",
   "execution_count": 6,
   "id": "fe0c4f13",
   "metadata": {},
   "outputs": [],
   "source": [
    "genre_ids  = [28, 12, 16, 35, 80, 99, 18, 10751, 14, 36, 27, 10402, 9648, 10749, 878, 10770, 53, 10752, 37]\n",
    "genre_names = [\n",
    "    \"Action\",\n",
    "    \"Adventure\",\n",
    "    \"Animation\",\n",
    "    \"Comedy\",\n",
    "    \"Crime\",\n",
    "    \"Documentary\",\n",
    "    \"Drama\",\n",
    "    \"Family\",\n",
    "    \"Fantasy\",\n",
    "    \"History\",\n",
    "    \"Horror\",\n",
    "    \"Music\",\n",
    "    \"Mystery\",\n",
    "    \"Romance\",\n",
    "    \"Science Fiction\",\n",
    "    \"TV Movie\",\n",
    "    \"Thriller\",\n",
    "    \"War\",\n",
    "    \"Western\"\n",
    "]\n",
    "\n",
    "genre_mapping = dict(zip(genre_ids, genre_names))"
   ]
  },
  {
   "cell_type": "code",
   "execution_count": 7,
   "id": "3e34c28e",
   "metadata": {},
   "outputs": [
    {
     "data": {
      "text/plain": [
       "0            [28, 12, 18]\n",
       "1             [35, 10749]\n",
       "2         [18, 35, 10749]\n",
       "3       [12, 28, 27, 878]\n",
       "4     [28, 12, 35, 10749]\n",
       "5     [28, 12, 53, 10752]\n",
       "6                    [18]\n",
       "7                    [28]\n",
       "8           [878, 53, 27]\n",
       "9     [10751, 35, 16, 12]\n",
       "10        [35, 14, 10749]\n",
       "11       [28, 36, 12, 18]\n",
       "12           [28, 53, 18]\n",
       "13            [16, 10751]\n",
       "14               [35, 80]\n",
       "15            [35, 10749]\n",
       "16               [14, 28]\n",
       "17               [27, 53]\n",
       "18               [18, 53]\n",
       "19        [18, 10749, 35]\n",
       "Name: genre_ids, dtype: object"
      ]
     },
     "execution_count": 7,
     "metadata": {},
     "output_type": "execute_result"
    }
   ],
   "source": [
    "movie['genre_ids']"
   ]
  },
  {
   "cell_type": "code",
   "execution_count": 8,
   "id": "4cfb3293",
   "metadata": {
    "scrolled": true
   },
   "outputs": [
    {
     "data": {
      "text/plain": [
       "{28: 'Action',\n",
       " 12: 'Adventure',\n",
       " 16: 'Animation',\n",
       " 35: 'Comedy',\n",
       " 80: 'Crime',\n",
       " 99: 'Documentary',\n",
       " 18: 'Drama',\n",
       " 10751: 'Family',\n",
       " 14: 'Fantasy',\n",
       " 36: 'History',\n",
       " 27: 'Horror',\n",
       " 10402: 'Music',\n",
       " 9648: 'Mystery',\n",
       " 10749: 'Romance',\n",
       " 878: 'Science Fiction',\n",
       " 10770: 'TV Movie',\n",
       " 53: 'Thriller',\n",
       " 10752: 'War',\n",
       " 37: 'Western'}"
      ]
     },
     "execution_count": 8,
     "metadata": {},
     "output_type": "execute_result"
    }
   ],
   "source": [
    "genre_mapping"
   ]
  },
  {
   "cell_type": "code",
   "execution_count": 9,
   "id": "9138c934",
   "metadata": {},
   "outputs": [],
   "source": [
    "def convert_genre_ids_to_names(genre_ids):\n",
    "    return [genre_mapping[genre_id] for genre_id in genre_ids]"
   ]
  },
  {
   "cell_type": "code",
   "execution_count": 10,
   "id": "d1f9a83d",
   "metadata": {},
   "outputs": [],
   "source": [
    "movie['genre_name'] = movie['genre_ids'].apply(convert_genre_ids_to_names)"
   ]
  },
  {
   "cell_type": "code",
   "execution_count": 11,
   "id": "bbf490b7",
   "metadata": {},
   "outputs": [
    {
     "data": {
      "text/plain": [
       "array(['en', 'fr', 'ko'], dtype=object)"
      ]
     },
     "execution_count": 11,
     "metadata": {},
     "output_type": "execute_result"
    }
   ],
   "source": [
    "movie['original_language'].unique()"
   ]
  },
  {
   "cell_type": "markdown",
   "id": "3e645962",
   "metadata": {},
   "source": [
    "movie = pd.read_csv('movie.csv')\n",
    "column = ['Unnamed: 0', 'Unnamed: 0.1', 'Unnamed: 0.2']\n",
    "movie = movie.drop(columns=column)"
   ]
  },
  {
   "cell_type": "code",
   "execution_count": 12,
   "id": "e79a0426",
   "metadata": {},
   "outputs": [],
   "source": [
    "ori_language = ['en', 'hi', 'ja', 'ko', 'it', 'es', 'zh', 'pt', 'ru', 'fr', 'tr', \n",
    "                'sv', 'hu', 'ar', 'de', 'cn', 'da', 'pl', 'bn', 'nl', 'fa', 'th',\n",
    "                'te', 'sr', 'sh', 'et', 'id', 'cs', 'no', 'uk', 'ro', 'gl', 'ga',\n",
    "                'el', 'fi', 'bs', 'hy', 'xx', 'is', 'ml', 'la', 'tn', 'eu', 'nb',\n",
    "                'he', 'km']\n",
    "\n",
    "language = ['English', 'Hindi', 'Japanese', 'Korean', 'Italian', 'Spanish; Castilian', \n",
    "            'Chinese', 'Portuguese', 'Russian', 'French', 'Turkish','Swedish',\n",
    "            'Hungarian','Arabic','German', 'Cn', 'Danish', 'Polish', 'Bengali', \n",
    "            'Dutch; Flemish', 'Persian', 'Thai','Telugu','Serbian','Sh', \n",
    "            'Estonian', 'Indonesian', 'Czech', 'Norwegian', 'Ukrainian', 'Romanian', \n",
    "            'Galician', 'Irish','Greek, Modern(1453-)','Finnish','Bosnian', \n",
    "            'Armenian', 'Xhosa','Icelandic', 'Malayalam', 'Latin', \n",
    "            'Tswana', 'Basque', 'Nogai','Hebrew','Central Khmer']\n",
    "\n",
    "language_mapping = dict(zip(ori_language, language))"
   ]
  },
  {
   "cell_type": "code",
   "execution_count": 13,
   "id": "0667d86e",
   "metadata": {},
   "outputs": [
    {
     "data": {
      "text/plain": [
       "{'en': 'English',\n",
       " 'hi': 'Hindi',\n",
       " 'ja': 'Japanese',\n",
       " 'ko': 'Korean',\n",
       " 'it': 'Italian',\n",
       " 'es': 'Spanish; Castilian',\n",
       " 'zh': 'Chinese',\n",
       " 'pt': 'Portuguese',\n",
       " 'ru': 'Russian',\n",
       " 'fr': 'French',\n",
       " 'tr': 'Turkish',\n",
       " 'sv': 'Swedish',\n",
       " 'hu': 'Hungarian',\n",
       " 'ar': 'Arabic',\n",
       " 'de': 'German',\n",
       " 'cn': 'Cn',\n",
       " 'da': 'Danish',\n",
       " 'pl': 'Polish',\n",
       " 'bn': 'Bengali',\n",
       " 'nl': 'Dutch; Flemish',\n",
       " 'fa': 'Persian',\n",
       " 'th': 'Thai',\n",
       " 'te': 'Telugu',\n",
       " 'sr': 'Serbian',\n",
       " 'sh': 'Sh',\n",
       " 'et': 'Estonian',\n",
       " 'id': 'Indonesian',\n",
       " 'cs': 'Czech',\n",
       " 'no': 'Norwegian',\n",
       " 'uk': 'Ukrainian',\n",
       " 'ro': 'Romanian',\n",
       " 'gl': 'Galician',\n",
       " 'ga': 'Irish',\n",
       " 'el': 'Greek, Modern(1453-)',\n",
       " 'fi': 'Finnish',\n",
       " 'bs': 'Bosnian',\n",
       " 'hy': 'Armenian',\n",
       " 'xx': 'Xhosa',\n",
       " 'is': 'Icelandic',\n",
       " 'ml': 'Malayalam',\n",
       " 'la': 'Latin',\n",
       " 'tn': 'Tswana',\n",
       " 'eu': 'Basque',\n",
       " 'nb': 'Nogai',\n",
       " 'he': 'Hebrew',\n",
       " 'km': 'Central Khmer'}"
      ]
     },
     "execution_count": 13,
     "metadata": {},
     "output_type": "execute_result"
    }
   ],
   "source": [
    "language_mapping"
   ]
  },
  {
   "cell_type": "code",
   "execution_count": 14,
   "id": "3f4ac7a5",
   "metadata": {},
   "outputs": [],
   "source": [
    "movie['language'] = \"\""
   ]
  },
  {
   "cell_type": "code",
   "execution_count": 15,
   "id": "3d4909bf",
   "metadata": {},
   "outputs": [],
   "source": [
    "for index, row in movie.iterrows():\n",
    "    original_language = row[\"original_language\"]\n",
    "    if original_language in language_mapping:\n",
    "        movie.at[index, \"language\"] = language_mapping[original_language]"
   ]
  },
  {
   "cell_type": "code",
   "execution_count": 16,
   "id": "5c1448d1",
   "metadata": {},
   "outputs": [],
   "source": [
    "columns_to_drop = ['original_title', 'genre_ids', 'original_language', 'video']\n",
    "movie = movie.drop(columns=columns_to_drop, axis=1)"
   ]
  },
  {
   "cell_type": "code",
   "execution_count": 17,
   "id": "7f4cfeb4",
   "metadata": {},
   "outputs": [
    {
     "data": {
      "text/html": [
       "<div>\n",
       "<style scoped>\n",
       "    .dataframe tbody tr th:only-of-type {\n",
       "        vertical-align: middle;\n",
       "    }\n",
       "\n",
       "    .dataframe tbody tr th {\n",
       "        vertical-align: top;\n",
       "    }\n",
       "\n",
       "    .dataframe thead th {\n",
       "        text-align: right;\n",
       "    }\n",
       "</style>\n",
       "<table border=\"1\" class=\"dataframe\">\n",
       "  <thead>\n",
       "    <tr style=\"text-align: right;\">\n",
       "      <th></th>\n",
       "      <th>id</th>\n",
       "      <th>title</th>\n",
       "      <th>overview</th>\n",
       "      <th>release_date</th>\n",
       "      <th>popularity</th>\n",
       "      <th>adult</th>\n",
       "      <th>vote_average</th>\n",
       "      <th>vote_count</th>\n",
       "      <th>genre_name</th>\n",
       "      <th>language</th>\n",
       "    </tr>\n",
       "  </thead>\n",
       "  <tbody>\n",
       "    <tr>\n",
       "      <th>0</th>\n",
       "      <td>43930</td>\n",
       "      <td>Tomorrow, When the War Began</td>\n",
       "      <td>Ellie Linton, a teen from an Australian coasta...</td>\n",
       "      <td>2010-08-08</td>\n",
       "      <td>12.537</td>\n",
       "      <td>False</td>\n",
       "      <td>6.2</td>\n",
       "      <td>466</td>\n",
       "      <td>[Action, Adventure, Drama]</td>\n",
       "      <td>English</td>\n",
       "    </tr>\n",
       "    <tr>\n",
       "      <th>1</th>\n",
       "      <td>22327</td>\n",
       "      <td>Youth in Revolt</td>\n",
       "      <td>As a fan of Albert Camus and Jean-Luc Godard, ...</td>\n",
       "      <td>2009-09-11</td>\n",
       "      <td>10.775</td>\n",
       "      <td>False</td>\n",
       "      <td>6.2</td>\n",
       "      <td>822</td>\n",
       "      <td>[Comedy, Romance]</td>\n",
       "      <td>English</td>\n",
       "    </tr>\n",
       "    <tr>\n",
       "      <th>2</th>\n",
       "      <td>10739</td>\n",
       "      <td>Anything Else</td>\n",
       "      <td>Jerry Falk, an aspiring writer in New York, fa...</td>\n",
       "      <td>2003-08-27</td>\n",
       "      <td>10.145</td>\n",
       "      <td>False</td>\n",
       "      <td>6.2</td>\n",
       "      <td>551</td>\n",
       "      <td>[Drama, Comedy, Romance]</td>\n",
       "      <td>English</td>\n",
       "    </tr>\n",
       "    <tr>\n",
       "      <th>3</th>\n",
       "      <td>9457</td>\n",
       "      <td>Deep Rising</td>\n",
       "      <td>A group of heavily armed hijackers board a lux...</td>\n",
       "      <td>1998-01-30</td>\n",
       "      <td>22.224</td>\n",
       "      <td>False</td>\n",
       "      <td>6.2</td>\n",
       "      <td>609</td>\n",
       "      <td>[Adventure, Action, Horror, Science Fiction]</td>\n",
       "      <td>English</td>\n",
       "    </tr>\n",
       "    <tr>\n",
       "      <th>4</th>\n",
       "      <td>1727</td>\n",
       "      <td>Bird on a Wire</td>\n",
       "      <td>An FBI informant has kept his new identity sec...</td>\n",
       "      <td>1990-05-18</td>\n",
       "      <td>12.590</td>\n",
       "      <td>False</td>\n",
       "      <td>6.2</td>\n",
       "      <td>828</td>\n",
       "      <td>[Action, Adventure, Comedy, Romance]</td>\n",
       "      <td>English</td>\n",
       "    </tr>\n",
       "  </tbody>\n",
       "</table>\n",
       "</div>"
      ],
      "text/plain": [
       "      id                         title  \\\n",
       "0  43930  Tomorrow, When the War Began   \n",
       "1  22327               Youth in Revolt   \n",
       "2  10739                 Anything Else   \n",
       "3   9457                   Deep Rising   \n",
       "4   1727                Bird on a Wire   \n",
       "\n",
       "                                            overview release_date  popularity  \\\n",
       "0  Ellie Linton, a teen from an Australian coasta...   2010-08-08      12.537   \n",
       "1  As a fan of Albert Camus and Jean-Luc Godard, ...   2009-09-11      10.775   \n",
       "2  Jerry Falk, an aspiring writer in New York, fa...   2003-08-27      10.145   \n",
       "3  A group of heavily armed hijackers board a lux...   1998-01-30      22.224   \n",
       "4  An FBI informant has kept his new identity sec...   1990-05-18      12.590   \n",
       "\n",
       "   adult  vote_average  vote_count  \\\n",
       "0  False           6.2         466   \n",
       "1  False           6.2         822   \n",
       "2  False           6.2         551   \n",
       "3  False           6.2         609   \n",
       "4  False           6.2         828   \n",
       "\n",
       "                                     genre_name language  \n",
       "0                    [Action, Adventure, Drama]  English  \n",
       "1                             [Comedy, Romance]  English  \n",
       "2                      [Drama, Comedy, Romance]  English  \n",
       "3  [Adventure, Action, Horror, Science Fiction]  English  \n",
       "4          [Action, Adventure, Comedy, Romance]  English  "
      ]
     },
     "execution_count": 17,
     "metadata": {},
     "output_type": "execute_result"
    }
   ],
   "source": [
    "movie.head()"
   ]
  },
  {
   "cell_type": "code",
   "execution_count": 18,
   "id": "70456ca0",
   "metadata": {},
   "outputs": [
    {
     "name": "stdout",
     "output_type": "stream",
     "text": [
      "<class 'pandas.core.frame.DataFrame'>\n",
      "RangeIndex: 20 entries, 0 to 19\n",
      "Data columns (total 10 columns):\n",
      " #   Column        Non-Null Count  Dtype  \n",
      "---  ------        --------------  -----  \n",
      " 0   id            20 non-null     int64  \n",
      " 1   title         20 non-null     object \n",
      " 2   overview      20 non-null     object \n",
      " 3   release_date  20 non-null     object \n",
      " 4   popularity    20 non-null     float64\n",
      " 5   adult         20 non-null     bool   \n",
      " 6   vote_average  20 non-null     float64\n",
      " 7   vote_count    20 non-null     int64  \n",
      " 8   genre_name    20 non-null     object \n",
      " 9   language      20 non-null     object \n",
      "dtypes: bool(1), float64(2), int64(2), object(5)\n",
      "memory usage: 1.6+ KB\n"
     ]
    }
   ],
   "source": [
    "movie.info()"
   ]
  },
  {
   "cell_type": "code",
   "execution_count": 19,
   "id": "7a0b5254",
   "metadata": {},
   "outputs": [
    {
     "data": {
      "text/plain": [
       "id              0\n",
       "title           0\n",
       "overview        0\n",
       "release_date    0\n",
       "popularity      0\n",
       "adult           0\n",
       "vote_average    0\n",
       "vote_count      0\n",
       "genre_name      0\n",
       "language        0\n",
       "dtype: int64"
      ]
     },
     "execution_count": 19,
     "metadata": {},
     "output_type": "execute_result"
    }
   ],
   "source": [
    "movie.isnull().sum()"
   ]
  },
  {
   "cell_type": "code",
   "execution_count": 20,
   "id": "8cfccb3d",
   "metadata": {},
   "outputs": [],
   "source": [
    "movie['year'] = pd.to_datetime(movie['release_date'], errors='coerce').apply(lambda x: str(x).split('-')[0] if x != np.nan else np.nan)"
   ]
  },
  {
   "cell_type": "code",
   "execution_count": 21,
   "id": "b6990557",
   "metadata": {
    "scrolled": true
   },
   "outputs": [
    {
     "data": {
      "text/html": [
       "<div>\n",
       "<style scoped>\n",
       "    .dataframe tbody tr th:only-of-type {\n",
       "        vertical-align: middle;\n",
       "    }\n",
       "\n",
       "    .dataframe tbody tr th {\n",
       "        vertical-align: top;\n",
       "    }\n",
       "\n",
       "    .dataframe thead th {\n",
       "        text-align: right;\n",
       "    }\n",
       "</style>\n",
       "<table border=\"1\" class=\"dataframe\">\n",
       "  <thead>\n",
       "    <tr style=\"text-align: right;\">\n",
       "      <th></th>\n",
       "      <th>id</th>\n",
       "      <th>title</th>\n",
       "      <th>overview</th>\n",
       "      <th>release_date</th>\n",
       "      <th>popularity</th>\n",
       "      <th>adult</th>\n",
       "      <th>vote_average</th>\n",
       "      <th>vote_count</th>\n",
       "      <th>genre_name</th>\n",
       "      <th>language</th>\n",
       "      <th>year</th>\n",
       "    </tr>\n",
       "  </thead>\n",
       "  <tbody>\n",
       "    <tr>\n",
       "      <th>0</th>\n",
       "      <td>43930</td>\n",
       "      <td>Tomorrow, When the War Began</td>\n",
       "      <td>Ellie Linton, a teen from an Australian coasta...</td>\n",
       "      <td>2010-08-08</td>\n",
       "      <td>12.537</td>\n",
       "      <td>False</td>\n",
       "      <td>6.2</td>\n",
       "      <td>466</td>\n",
       "      <td>[Action, Adventure, Drama]</td>\n",
       "      <td>English</td>\n",
       "      <td>2010</td>\n",
       "    </tr>\n",
       "    <tr>\n",
       "      <th>1</th>\n",
       "      <td>22327</td>\n",
       "      <td>Youth in Revolt</td>\n",
       "      <td>As a fan of Albert Camus and Jean-Luc Godard, ...</td>\n",
       "      <td>2009-09-11</td>\n",
       "      <td>10.775</td>\n",
       "      <td>False</td>\n",
       "      <td>6.2</td>\n",
       "      <td>822</td>\n",
       "      <td>[Comedy, Romance]</td>\n",
       "      <td>English</td>\n",
       "      <td>2009</td>\n",
       "    </tr>\n",
       "    <tr>\n",
       "      <th>2</th>\n",
       "      <td>10739</td>\n",
       "      <td>Anything Else</td>\n",
       "      <td>Jerry Falk, an aspiring writer in New York, fa...</td>\n",
       "      <td>2003-08-27</td>\n",
       "      <td>10.145</td>\n",
       "      <td>False</td>\n",
       "      <td>6.2</td>\n",
       "      <td>551</td>\n",
       "      <td>[Drama, Comedy, Romance]</td>\n",
       "      <td>English</td>\n",
       "      <td>2003</td>\n",
       "    </tr>\n",
       "    <tr>\n",
       "      <th>3</th>\n",
       "      <td>9457</td>\n",
       "      <td>Deep Rising</td>\n",
       "      <td>A group of heavily armed hijackers board a lux...</td>\n",
       "      <td>1998-01-30</td>\n",
       "      <td>22.224</td>\n",
       "      <td>False</td>\n",
       "      <td>6.2</td>\n",
       "      <td>609</td>\n",
       "      <td>[Adventure, Action, Horror, Science Fiction]</td>\n",
       "      <td>English</td>\n",
       "      <td>1998</td>\n",
       "    </tr>\n",
       "    <tr>\n",
       "      <th>4</th>\n",
       "      <td>1727</td>\n",
       "      <td>Bird on a Wire</td>\n",
       "      <td>An FBI informant has kept his new identity sec...</td>\n",
       "      <td>1990-05-18</td>\n",
       "      <td>12.590</td>\n",
       "      <td>False</td>\n",
       "      <td>6.2</td>\n",
       "      <td>828</td>\n",
       "      <td>[Action, Adventure, Comedy, Romance]</td>\n",
       "      <td>English</td>\n",
       "      <td>1990</td>\n",
       "    </tr>\n",
       "  </tbody>\n",
       "</table>\n",
       "</div>"
      ],
      "text/plain": [
       "      id                         title  \\\n",
       "0  43930  Tomorrow, When the War Began   \n",
       "1  22327               Youth in Revolt   \n",
       "2  10739                 Anything Else   \n",
       "3   9457                   Deep Rising   \n",
       "4   1727                Bird on a Wire   \n",
       "\n",
       "                                            overview release_date  popularity  \\\n",
       "0  Ellie Linton, a teen from an Australian coasta...   2010-08-08      12.537   \n",
       "1  As a fan of Albert Camus and Jean-Luc Godard, ...   2009-09-11      10.775   \n",
       "2  Jerry Falk, an aspiring writer in New York, fa...   2003-08-27      10.145   \n",
       "3  A group of heavily armed hijackers board a lux...   1998-01-30      22.224   \n",
       "4  An FBI informant has kept his new identity sec...   1990-05-18      12.590   \n",
       "\n",
       "   adult  vote_average  vote_count  \\\n",
       "0  False           6.2         466   \n",
       "1  False           6.2         822   \n",
       "2  False           6.2         551   \n",
       "3  False           6.2         609   \n",
       "4  False           6.2         828   \n",
       "\n",
       "                                     genre_name language  year  \n",
       "0                    [Action, Adventure, Drama]  English  2010  \n",
       "1                             [Comedy, Romance]  English  2009  \n",
       "2                      [Drama, Comedy, Romance]  English  2003  \n",
       "3  [Adventure, Action, Horror, Science Fiction]  English  1998  \n",
       "4          [Action, Adventure, Comedy, Romance]  English  1990  "
      ]
     },
     "execution_count": 21,
     "metadata": {},
     "output_type": "execute_result"
    }
   ],
   "source": [
    "movie.head()"
   ]
  },
  {
   "cell_type": "markdown",
   "id": "ed142cb5",
   "metadata": {},
   "source": [
    "### Weighted Rating"
   ]
  },
  {
   "cell_type": "markdown",
   "id": "19a95bad",
   "metadata": {},
   "source": [
    "$$Weighted Rating(WR) = (\\frac {v} {v+m}.R) + (\\frac {m} {v+m}.C) $$\n",
    "\n",
    "where,\n",
    "  - v is the number of votes for the movie.\n",
    "  - m is the minimum votes required to be listed in the chart.\n",
    "  - R is the average rating of the movie.\n",
    "  - C is the mean vote across the whole report."
   ]
  },
  {
   "cell_type": "code",
   "execution_count": 22,
   "id": "ff2c0d09",
   "metadata": {},
   "outputs": [],
   "source": [
    "C = movie['vote_average'].mean()\n",
    "m = movie['vote_count'].quantile(0.98)"
   ]
  },
  {
   "cell_type": "code",
   "execution_count": 23,
   "id": "45485764",
   "metadata": {},
   "outputs": [],
   "source": [
    "def rating(mv):\n",
    "    v = mv['vote_count']\n",
    "    R = mv['vote_average']\n",
    "    return (v/(v+m) * R) + (m/(m+v) * C)"
   ]
  },
  {
   "cell_type": "code",
   "execution_count": 24,
   "id": "5ed67db1",
   "metadata": {},
   "outputs": [],
   "source": [
    "movie['weighted_rating'] = movie.apply(rating, axis=1).round(2)"
   ]
  },
  {
   "cell_type": "code",
   "execution_count": 25,
   "id": "c33fc02c",
   "metadata": {},
   "outputs": [],
   "source": [
    "movie = movie.sort_values('weighted_rating', ascending=False)"
   ]
  },
  {
   "cell_type": "code",
   "execution_count": 26,
   "id": "65ed5c9b",
   "metadata": {},
   "outputs": [
    {
     "data": {
      "text/html": [
       "<div>\n",
       "<style scoped>\n",
       "    .dataframe tbody tr th:only-of-type {\n",
       "        vertical-align: middle;\n",
       "    }\n",
       "\n",
       "    .dataframe tbody tr th {\n",
       "        vertical-align: top;\n",
       "    }\n",
       "\n",
       "    .dataframe thead th {\n",
       "        text-align: right;\n",
       "    }\n",
       "</style>\n",
       "<table border=\"1\" class=\"dataframe\">\n",
       "  <thead>\n",
       "    <tr style=\"text-align: right;\">\n",
       "      <th></th>\n",
       "      <th>id</th>\n",
       "      <th>title</th>\n",
       "      <th>overview</th>\n",
       "      <th>release_date</th>\n",
       "      <th>popularity</th>\n",
       "      <th>adult</th>\n",
       "      <th>vote_average</th>\n",
       "      <th>vote_count</th>\n",
       "      <th>genre_name</th>\n",
       "      <th>language</th>\n",
       "      <th>year</th>\n",
       "      <th>weighted_rating</th>\n",
       "    </tr>\n",
       "  </thead>\n",
       "  <tbody>\n",
       "    <tr>\n",
       "      <th>0</th>\n",
       "      <td>43930</td>\n",
       "      <td>Tomorrow, When the War Began</td>\n",
       "      <td>Ellie Linton, a teen from an Australian coasta...</td>\n",
       "      <td>2010-08-08</td>\n",
       "      <td>12.537</td>\n",
       "      <td>False</td>\n",
       "      <td>6.2</td>\n",
       "      <td>466</td>\n",
       "      <td>[Action, Adventure, Drama]</td>\n",
       "      <td>English</td>\n",
       "      <td>2010</td>\n",
       "      <td>6.2</td>\n",
       "    </tr>\n",
       "    <tr>\n",
       "      <th>1</th>\n",
       "      <td>22327</td>\n",
       "      <td>Youth in Revolt</td>\n",
       "      <td>As a fan of Albert Camus and Jean-Luc Godard, ...</td>\n",
       "      <td>2009-09-11</td>\n",
       "      <td>10.775</td>\n",
       "      <td>False</td>\n",
       "      <td>6.2</td>\n",
       "      <td>822</td>\n",
       "      <td>[Comedy, Romance]</td>\n",
       "      <td>English</td>\n",
       "      <td>2009</td>\n",
       "      <td>6.2</td>\n",
       "    </tr>\n",
       "    <tr>\n",
       "      <th>18</th>\n",
       "      <td>13200</td>\n",
       "      <td>Red</td>\n",
       "      <td>Avery, a reclusive older man, has a best frien...</td>\n",
       "      <td>2008-08-08</td>\n",
       "      <td>12.674</td>\n",
       "      <td>False</td>\n",
       "      <td>6.2</td>\n",
       "      <td>230</td>\n",
       "      <td>[Drama, Thriller]</td>\n",
       "      <td>English</td>\n",
       "      <td>2008</td>\n",
       "      <td>6.2</td>\n",
       "    </tr>\n",
       "    <tr>\n",
       "      <th>17</th>\n",
       "      <td>13474</td>\n",
       "      <td>P2</td>\n",
       "      <td>A businesswoman finds herself locked with a un...</td>\n",
       "      <td>2007-11-09</td>\n",
       "      <td>13.752</td>\n",
       "      <td>False</td>\n",
       "      <td>6.2</td>\n",
       "      <td>745</td>\n",
       "      <td>[Horror, Thriller]</td>\n",
       "      <td>English</td>\n",
       "      <td>2007</td>\n",
       "      <td>6.2</td>\n",
       "    </tr>\n",
       "    <tr>\n",
       "      <th>16</th>\n",
       "      <td>452015</td>\n",
       "      <td>Psychokinesis</td>\n",
       "      <td>An ordinary guy suddenly finds he has superpow...</td>\n",
       "      <td>2018-01-31</td>\n",
       "      <td>11.142</td>\n",
       "      <td>False</td>\n",
       "      <td>6.2</td>\n",
       "      <td>264</td>\n",
       "      <td>[Fantasy, Action]</td>\n",
       "      <td>Korean</td>\n",
       "      <td>2018</td>\n",
       "      <td>6.2</td>\n",
       "    </tr>\n",
       "  </tbody>\n",
       "</table>\n",
       "</div>"
      ],
      "text/plain": [
       "        id                         title  \\\n",
       "0    43930  Tomorrow, When the War Began   \n",
       "1    22327               Youth in Revolt   \n",
       "18   13200                           Red   \n",
       "17   13474                            P2   \n",
       "16  452015                 Psychokinesis   \n",
       "\n",
       "                                             overview release_date  \\\n",
       "0   Ellie Linton, a teen from an Australian coasta...   2010-08-08   \n",
       "1   As a fan of Albert Camus and Jean-Luc Godard, ...   2009-09-11   \n",
       "18  Avery, a reclusive older man, has a best frien...   2008-08-08   \n",
       "17  A businesswoman finds herself locked with a un...   2007-11-09   \n",
       "16  An ordinary guy suddenly finds he has superpow...   2018-01-31   \n",
       "\n",
       "    popularity  adult  vote_average  vote_count                  genre_name  \\\n",
       "0       12.537  False           6.2         466  [Action, Adventure, Drama]   \n",
       "1       10.775  False           6.2         822           [Comedy, Romance]   \n",
       "18      12.674  False           6.2         230           [Drama, Thriller]   \n",
       "17      13.752  False           6.2         745          [Horror, Thriller]   \n",
       "16      11.142  False           6.2         264           [Fantasy, Action]   \n",
       "\n",
       "   language  year  weighted_rating  \n",
       "0   English  2010              6.2  \n",
       "1   English  2009              6.2  \n",
       "18  English  2008              6.2  \n",
       "17  English  2007              6.2  \n",
       "16   Korean  2018              6.2  "
      ]
     },
     "execution_count": 26,
     "metadata": {},
     "output_type": "execute_result"
    }
   ],
   "source": [
    "movie.head()"
   ]
  },
  {
   "cell_type": "markdown",
   "id": "19a3e61e",
   "metadata": {},
   "source": [
    "## Build a recommendation model with data"
   ]
  },
  {
   "cell_type": "markdown",
   "id": "9ff85e48",
   "metadata": {},
   "source": [
    "###  Genre recommendation system."
   ]
  },
  {
   "cell_type": "code",
   "execution_count": 30,
   "id": "d5d2fbfc",
   "metadata": {},
   "outputs": [],
   "source": [
    "from sklearn.feature_extraction.text import TfidfVectorizer\n",
    "from sklearn.metrics.pairwise import linear_kernel\n",
    "#from sklearn.metrics.pairwise import cosine_similarity"
   ]
  },
  {
   "cell_type": "code",
   "execution_count": 31,
   "id": "547b5422",
   "metadata": {},
   "outputs": [],
   "source": [
    "# Combine genre and title into a single column\n",
    "movie['combined_gen_tle'] = movie.apply(lambda x: ' '.join(x['genre_name']) + ' ' + x['title'], axis=1)"
   ]
  },
  {
   "cell_type": "code",
   "execution_count": 32,
   "id": "99f20cdf",
   "metadata": {},
   "outputs": [],
   "source": [
    "# Create a TF-IDF vectorizer to convert text data into numerical features\n",
    "tfidf_vectorizer = TfidfVectorizer()\n",
    "# Fit and transform the combined_features column\n",
    "tfidf_matrix = tfidf_vectorizer.fit_transform(movie['combined_gen_tle'])"
   ]
  },
  {
   "cell_type": "code",
   "execution_count": 33,
   "id": "a306cdd9",
   "metadata": {},
   "outputs": [],
   "source": [
    "# Calculate cosine similarity between movies\n",
    "cosine_sim = linear_kernel(tfidf_matrix, tfidf_matrix)"
   ]
  },
  {
   "cell_type": "code",
   "execution_count": 39,
   "id": "d5654a8b",
   "metadata": {},
   "outputs": [],
   "source": [
    "movie_title = 'Red'\n",
    "# Find the index of the user's movie\n",
    "movie_index = movie[movie['title'] == movie_title].index[0]"
   ]
  },
  {
   "cell_type": "code",
   "execution_count": 40,
   "id": "635e51f0",
   "metadata": {},
   "outputs": [],
   "source": [
    "# Get the pairwise similarity scores for the user's movie\n",
    "similarity_scores = list(enumerate(cosine_sim[movie_index]))\n",
    "# Sort movies by similsarity scores in descending order\n",
    "similarity_scores = sorted(similarity_scores, key=lambda x: x[1], reverse=True)\n",
    "# Extract movie indices from the sorted list\n",
    "movie_indices = [i[0] for i in similarity_scores]"
   ]
  },
  {
   "cell_type": "code",
   "execution_count": 41,
   "id": "308c0aaf",
   "metadata": {},
   "outputs": [
    {
     "name": "stdout",
     "output_type": "stream",
     "text": [
      "19     St. Elmo's Fire\n",
      "10           Teen Wolf\n",
      "1      Youth in Revolt\n",
      "4       Bird on a Wire\n",
      "15    Run, Fatboy, Run\n",
      "Name: title, dtype: object\n"
     ]
    }
   ],
   "source": [
    "# Display top_N recommendations\n",
    "top_N = 5\n",
    "top_recommendations = movie['title'].iloc[movie_indices[1:top_N+1]]\n",
    "print(top_recommendations)"
   ]
  },
  {
   "cell_type": "markdown",
   "id": "4517384c",
   "metadata": {},
   "source": [
    "### Overview recommendation model"
   ]
  },
  {
   "cell_type": "code",
   "execution_count": 42,
   "id": "95ba3545",
   "metadata": {},
   "outputs": [],
   "source": [
    "tfidf_vectorizer = TfidfVectorizer(stop_words='english')\n",
    "tfidf_matrix = tfidf_vectorizer.fit_transform(movie['overview'].fillna(\"\"))"
   ]
  },
  {
   "cell_type": "code",
   "execution_count": 43,
   "id": "5346b001",
   "metadata": {},
   "outputs": [],
   "source": [
    "cosine_sim = linear_kernel(tfidf_matrix, tfidf_matrix)"
   ]
  },
  {
   "cell_type": "code",
   "execution_count": 44,
   "id": "0690c05b",
   "metadata": {},
   "outputs": [],
   "source": [
    "def get_recommendations(title, num_recommendations=10):\n",
    "    idx = movie.index[movie['title'] == title].tolist()[0]\n",
    "    sim_scores = list(enumerate(cosine_sim[idx]))\n",
    "    sim_scores = sorted(sim_scores, key=lambda x: x[1], reverse=True)\n",
    "    sim_scores = sim_scores[1:num_recommendations+1]\n",
    "    movie_indices = [i[0] for i in sim_scores]\n",
    "    return movie['title'].iloc[movie_indices]"
   ]
  },
  {
   "cell_type": "code",
   "execution_count": 46,
   "id": "c63c92f2",
   "metadata": {},
   "outputs": [
    {
     "name": "stdout",
     "output_type": "stream",
     "text": [
      "9            Early Man\n",
      "19     St. Elmo's Fire\n",
      "8                  Tau\n",
      "6             No Limit\n",
      "7             Vendetta\n",
      "1      Youth in Revolt\n",
      "18                 Red\n",
      "17                  P2\n",
      "16       Psychokinesis\n",
      "15    Run, Fatboy, Run\n",
      "Name: title, dtype: object\n"
     ]
    }
   ],
   "source": [
    "movie_name = \"Tomorrow, When the War Began\"\n",
    "recommendations = get_recommendations(movie_name)\n",
    "print(recommendations)"
   ]
  },
  {
   "cell_type": "markdown",
   "id": "0ea12623",
   "metadata": {},
   "source": [
    "# Movie Recommendation System"
   ]
  },
  {
   "cell_type": "markdown",
   "id": "2bdb7b2b",
   "metadata": {},
   "source": [
    "## Data Collection\n",
    "- Choosing a movie data API like IMDB, TMDB OR OMDB.\n",
    "- Retrieve movie data from TMDB by using the API."
   ]
  },
  {
   "cell_type": "code",
   "execution_count": 35,
   "id": "d9ecb83b",
   "metadata": {},
   "outputs": [],
   "source": [
    "import requests\n",
    "\n",
    "API_KEY = \"API KEY\"\n",
    "BASE_URL = \"https://api.themoviedb.org/3\"\n",
    "\n",
    "def get_movie_data(movie_name):\n",
    "    search_url = f\"{BASE_URL}/search/movie\"\n",
    "    params = {\n",
    "        \"api_key\": API_KEY,\n",
    "        \"query\": movie_name\n",
    "    }\n",
    "    response = requests.get(search_url, params=params)\n",
    "    data = response.json()\n",
    "    return data[\"results\"]"
   ]
  },
  {
   "cell_type": "markdown",
   "id": "2917c68a",
   "metadata": {},
   "source": [
    "## Data Preprocessing\n",
    "\n",
    "- Clean and preprocess the retrieved data to extract relevant information."
   ]
  },
  {
   "cell_type": "code",
   "execution_count": 36,
   "id": "f4659198",
   "metadata": {},
   "outputs": [],
   "source": [
    "def preprocess_data(movie_data):\n",
    "    processed_data = []\n",
    "    for movie in movie_data:\n",
    "        processed_data.append({\n",
    "            \"title\": movie[\"title\"],\n",
    "            \"overview\": movie[\"overview\"],\n",
    "            \"release_date\": movie[\"release_date\"],\n",
    "            \"rating\": movie[\"vote_average\"]\n",
    "        })\n",
    "    return processed_data     "
   ]
  },
  {
   "cell_type": "markdown",
   "id": "a02381a4",
   "metadata": {},
   "source": [
    "## Recommendation Algorithm\n",
    "\n",
    "- Implement a recommendation algorithm.\n",
    "- One simple approach is to recommend movies based on user ratings or movie genres."
   ]
  },
  {
   "cell_type": "code",
   "execution_count": 37,
   "id": "9b70d0a0",
   "metadata": {},
   "outputs": [],
   "source": [
    "def recommend_movies(user_preferences, movie_data, num_recommendations=10):\n",
    "    recommended_movies = [movie for movie in movie_data if movie[\"rating\"] >= user_preferences[\"min_rating\"]]\n",
    "    recommended_movies = sorted(recommended_movies, key=lambda x: x[\"rating\"], reverse=True)[:num_recommendations]\n",
    "    return recommended_movies"
   ]
  },
  {
   "cell_type": "markdown",
   "id": "94d0f43c",
   "metadata": {},
   "source": [
    "## User Interaction\n",
    "\n",
    "- Interact with the user to gather their preferences and display recommended movies."
   ]
  },
  {
   "cell_type": "code",
   "execution_count": 38,
   "id": "d789d84a",
   "metadata": {},
   "outputs": [
    {
     "name": "stdout",
     "output_type": "stream",
     "text": [
      "Enter a movie name --> Harry Potter\n",
      "Recommended Movies:\n",
      "Title: Harry Potter and the Deathly Hallows: Part 2\n",
      "Overview: Harry, Ron and Hermione continue their quest to vanquish the evil Voldemort once and for all. Just as things begin to look hopeless for the young wizards, Harry discovers a trio of magical objects that endow him with powers to rival Voldemort's formidable skills.\n",
      "Release Date: 2011-07-07\n",
      "Rating: 8.1\n",
      "===\n",
      "Title: Harry Potter and the Prisoner of Azkaban\n",
      "Overview: Year three at Hogwarts means new fun and challenges as Harry learns the delicate art of approaching a Hippogriff, transforming shape-shifting Boggarts into hilarity and even turning back time. But the term also brings danger: soul-sucking Dementors hover over the school, an ally of the accursed He-Who-Cannot-Be-Named lurks within the castle walls, and fearsome wizard Sirius Black escapes Azkaban. And Harry will confront them all.\n",
      "Release Date: 2004-05-31\n",
      "Rating: 8.0\n",
      "===\n",
      "Title: Harry Potter and the Philosopher's Stone\n",
      "Overview: Harry Potter has lived under the stairs at his aunt and uncle's house his whole life. But on his 11th birthday, he learns he's a powerful wizard—with a place waiting for him at the Hogwarts School of Witchcraft and Wizardry. As he learns to harness his newfound powers with the help of the school's kindly headmaster, Harry uncovers the truth about his parents' deaths—and about the villain who's to blame.\n",
      "Release Date: 2001-11-16\n",
      "Rating: 7.9\n",
      "===\n",
      "Title: Harry Potter and the Deathly Hallows: Part 1\n",
      "Overview: Harry, Ron and Hermione walk away from their last year at Hogwarts to find and destroy the remaining Horcruxes, putting an end to Voldemort's bid for immortality. But with Harry's beloved Dumbledore dead and Voldemort's unscrupulous Death Eaters on the loose, the world is more dangerous than ever.\n",
      "Release Date: 2010-10-06\n",
      "Rating: 7.8\n",
      "===\n",
      "Title: Harry Potter and the Goblet of Fire\n",
      "Overview: When Harry Potter's name emerges from the Goblet of Fire, he becomes a competitor in a grueling battle for glory among three wizarding schools—the Triwizard Tournament. But since Harry never submitted his name for the Tournament, who did? Now Harry must confront a deadly dragon, fierce water demons and an enchanted maze only to find himself in the cruel grasp of He Who Must Not Be Named.\n",
      "Release Date: 2005-11-16\n",
      "Rating: 7.8\n",
      "===\n",
      "Title: Harry Potter and the Half-Blood Prince\n",
      "Overview: As Lord Voldemort tightens his grip on both the Muggle and wizarding worlds, Hogwarts is no longer a safe haven. Harry suspects perils may even lie within the castle, but Dumbledore is more intent upon preparing him for the final battle fast approaching. Together they work to find the key to unlock Voldemorts defenses and to this end, Dumbledore recruits his old friend and colleague Horace Slughorn, whom he believes holds crucial information. Even as the decisive showdown looms, romance blossoms for Harry, Ron, Hermione and their classmates. Love is in the air, but danger lies ahead and Hogwarts may never be the same again.\n",
      "Release Date: 2009-07-07\n",
      "Rating: 7.7\n",
      "===\n",
      "Title: Harry Potter and the Chamber of Secrets\n",
      "Overview: Cars fly, trees fight back, and a mysterious house-elf comes to warn Harry Potter at the start of his second year at Hogwarts. Adventure and danger await when bloody writing on a wall announces: The Chamber Of Secrets Has Been Opened. To save Hogwarts will require all of Harry, Ron and Hermione’s magical abilities and courage.\n",
      "Release Date: 2002-11-13\n",
      "Rating: 7.7\n",
      "===\n",
      "Title: Harry Potter and the Order of the Phoenix\n",
      "Overview: Returning for his fifth year of study at Hogwarts, Harry is stunned to find that his warnings about the return of Lord Voldemort have been ignored. Left with no choice, Harry takes matters into his own hands, training a small group of students to defend themselves against the dark arts.\n",
      "Release Date: 2007-06-28\n",
      "Rating: 7.7\n",
      "===\n",
      "Title: The Magic Touch of Harry Potter\n",
      "Overview: A 2004 documentary on the first three “Harry Potter” films detailing the behind-the-scenes journey of making them.\n",
      "Release Date: 2004-06-11\n",
      "Rating: 7.5\n",
      "===\n",
      "Title: 50 Greatest Harry Potter Moments\n",
      "Overview: To mark the release two weeks ago of the eighth and final movie in the series, Robbie Coltrane narrates a countdown of the movie franchise's best moments. From Harry's first meeting with Ron and Hermione aboard the Hogwarts Express through to magical mysteries.\n",
      "Release Date: 2011-07-27\n",
      "Rating: 7.315\n",
      "===\n"
     ]
    }
   ],
   "source": [
    "def main():\n",
    "    movie_name = input(\"Enter a movie name --> \")\n",
    "    movie_data = get_movie_data(movie_name)\n",
    "    processed_data = preprocess_data(movie_data)\n",
    "    \n",
    "    user_preferences = {\n",
    "        \"min_rating\": 5.0\n",
    "    }\n",
    "    \n",
    "    recommended_movies = recommend_movies(user_preferences, processed_data)\n",
    "    \n",
    "    print(\"Recommended Movies:\")\n",
    "    for movie in recommended_movies:\n",
    "        print(f\"Title: {movie['title']}\")\n",
    "        print(f\"Overview: {movie['overview']}\")\n",
    "        print(f\"Release Date: {movie['release_date']}\")\n",
    "        print(f\"Rating: {movie['rating']}\")\n",
    "        print(\"===\")\n",
    "        \n",
    "if __name__ == \"__main__\":\n",
    "    main()"
   ]
  },
  {
   "cell_type": "code",
   "execution_count": null,
   "id": "86b44524",
   "metadata": {},
   "outputs": [],
   "source": []
  }
 ],
 "metadata": {
  "kernelspec": {
   "display_name": "Python 3 (ipykernel)",
   "language": "python",
   "name": "python3"
  },
  "language_info": {
   "codemirror_mode": {
    "name": "ipython",
    "version": 3
   },
   "file_extension": ".py",
   "mimetype": "text/x-python",
   "name": "python",
   "nbconvert_exporter": "python",
   "pygments_lexer": "ipython3",
   "version": "3.11.4"
  }
 },
 "nbformat": 4,
 "nbformat_minor": 5
}
